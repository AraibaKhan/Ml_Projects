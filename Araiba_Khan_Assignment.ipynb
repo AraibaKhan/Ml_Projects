{
 "cells": [
  {
   "cell_type": "code",
   "execution_count": 1,
   "metadata": {},
   "outputs": [],
   "source": [
    "#import necessary package\n",
    "import numpy as np # linear algebra\n",
    "import pandas as pd # data processing\n",
    "import tensorflow as tf\n",
    "from tensorflow import keras\n",
    "from sklearn.model_selection import train_test_split\n",
    "import matplotlib.pyplot as plt\n",
    "import matplotlib as mpl\n",
    "import os"
   ]
  },
  {
   "cell_type": "code",
   "execution_count": 2,
   "metadata": {},
   "outputs": [
    {
     "data": {
      "text/plain": [
       "'C:\\\\Users\\\\HP\\\\ML'"
      ]
     },
     "execution_count": 2,
     "metadata": {},
     "output_type": "execute_result"
    }
   ],
   "source": [
    "#check current directory\n",
    "os.getcwd()"
   ]
  },
  {
   "cell_type": "code",
   "execution_count": 3,
   "metadata": {},
   "outputs": [],
   "source": [
    "os.chdir(\"G:\\\\Araiba_Database\\\\MNIST\")"
   ]
  },
  {
   "cell_type": "code",
   "execution_count": 4,
   "metadata": {},
   "outputs": [],
   "source": [
    "#load Data\n",
    "train = pd.read_csv('train.csv')\n",
    "test = pd.read_csv('test.csv')"
   ]
  },
  {
   "cell_type": "code",
   "execution_count": 5,
   "metadata": {},
   "outputs": [
    {
     "data": {
      "text/html": [
       "<div>\n",
       "<style scoped>\n",
       "    .dataframe tbody tr th:only-of-type {\n",
       "        vertical-align: middle;\n",
       "    }\n",
       "\n",
       "    .dataframe tbody tr th {\n",
       "        vertical-align: top;\n",
       "    }\n",
       "\n",
       "    .dataframe thead th {\n",
       "        text-align: right;\n",
       "    }\n",
       "</style>\n",
       "<table border=\"1\" class=\"dataframe\">\n",
       "  <thead>\n",
       "    <tr style=\"text-align: right;\">\n",
       "      <th></th>\n",
       "      <th>label</th>\n",
       "      <th>pixel0</th>\n",
       "      <th>pixel1</th>\n",
       "      <th>pixel2</th>\n",
       "      <th>pixel3</th>\n",
       "      <th>pixel4</th>\n",
       "      <th>pixel5</th>\n",
       "      <th>pixel6</th>\n",
       "      <th>pixel7</th>\n",
       "      <th>pixel8</th>\n",
       "      <th>...</th>\n",
       "      <th>pixel774</th>\n",
       "      <th>pixel775</th>\n",
       "      <th>pixel776</th>\n",
       "      <th>pixel777</th>\n",
       "      <th>pixel778</th>\n",
       "      <th>pixel779</th>\n",
       "      <th>pixel780</th>\n",
       "      <th>pixel781</th>\n",
       "      <th>pixel782</th>\n",
       "      <th>pixel783</th>\n",
       "    </tr>\n",
       "  </thead>\n",
       "  <tbody>\n",
       "    <tr>\n",
       "      <th>0</th>\n",
       "      <td>1</td>\n",
       "      <td>0</td>\n",
       "      <td>0</td>\n",
       "      <td>0</td>\n",
       "      <td>0</td>\n",
       "      <td>0</td>\n",
       "      <td>0</td>\n",
       "      <td>0</td>\n",
       "      <td>0</td>\n",
       "      <td>0</td>\n",
       "      <td>...</td>\n",
       "      <td>0</td>\n",
       "      <td>0</td>\n",
       "      <td>0</td>\n",
       "      <td>0</td>\n",
       "      <td>0</td>\n",
       "      <td>0</td>\n",
       "      <td>0</td>\n",
       "      <td>0</td>\n",
       "      <td>0</td>\n",
       "      <td>0</td>\n",
       "    </tr>\n",
       "    <tr>\n",
       "      <th>1</th>\n",
       "      <td>0</td>\n",
       "      <td>0</td>\n",
       "      <td>0</td>\n",
       "      <td>0</td>\n",
       "      <td>0</td>\n",
       "      <td>0</td>\n",
       "      <td>0</td>\n",
       "      <td>0</td>\n",
       "      <td>0</td>\n",
       "      <td>0</td>\n",
       "      <td>...</td>\n",
       "      <td>0</td>\n",
       "      <td>0</td>\n",
       "      <td>0</td>\n",
       "      <td>0</td>\n",
       "      <td>0</td>\n",
       "      <td>0</td>\n",
       "      <td>0</td>\n",
       "      <td>0</td>\n",
       "      <td>0</td>\n",
       "      <td>0</td>\n",
       "    </tr>\n",
       "    <tr>\n",
       "      <th>2</th>\n",
       "      <td>1</td>\n",
       "      <td>0</td>\n",
       "      <td>0</td>\n",
       "      <td>0</td>\n",
       "      <td>0</td>\n",
       "      <td>0</td>\n",
       "      <td>0</td>\n",
       "      <td>0</td>\n",
       "      <td>0</td>\n",
       "      <td>0</td>\n",
       "      <td>...</td>\n",
       "      <td>0</td>\n",
       "      <td>0</td>\n",
       "      <td>0</td>\n",
       "      <td>0</td>\n",
       "      <td>0</td>\n",
       "      <td>0</td>\n",
       "      <td>0</td>\n",
       "      <td>0</td>\n",
       "      <td>0</td>\n",
       "      <td>0</td>\n",
       "    </tr>\n",
       "    <tr>\n",
       "      <th>3</th>\n",
       "      <td>4</td>\n",
       "      <td>0</td>\n",
       "      <td>0</td>\n",
       "      <td>0</td>\n",
       "      <td>0</td>\n",
       "      <td>0</td>\n",
       "      <td>0</td>\n",
       "      <td>0</td>\n",
       "      <td>0</td>\n",
       "      <td>0</td>\n",
       "      <td>...</td>\n",
       "      <td>0</td>\n",
       "      <td>0</td>\n",
       "      <td>0</td>\n",
       "      <td>0</td>\n",
       "      <td>0</td>\n",
       "      <td>0</td>\n",
       "      <td>0</td>\n",
       "      <td>0</td>\n",
       "      <td>0</td>\n",
       "      <td>0</td>\n",
       "    </tr>\n",
       "    <tr>\n",
       "      <th>4</th>\n",
       "      <td>0</td>\n",
       "      <td>0</td>\n",
       "      <td>0</td>\n",
       "      <td>0</td>\n",
       "      <td>0</td>\n",
       "      <td>0</td>\n",
       "      <td>0</td>\n",
       "      <td>0</td>\n",
       "      <td>0</td>\n",
       "      <td>0</td>\n",
       "      <td>...</td>\n",
       "      <td>0</td>\n",
       "      <td>0</td>\n",
       "      <td>0</td>\n",
       "      <td>0</td>\n",
       "      <td>0</td>\n",
       "      <td>0</td>\n",
       "      <td>0</td>\n",
       "      <td>0</td>\n",
       "      <td>0</td>\n",
       "      <td>0</td>\n",
       "    </tr>\n",
       "  </tbody>\n",
       "</table>\n",
       "<p>5 rows × 785 columns</p>\n",
       "</div>"
      ],
      "text/plain": [
       "   label  pixel0  pixel1  pixel2  pixel3  pixel4  pixel5  pixel6  pixel7  \\\n",
       "0      1       0       0       0       0       0       0       0       0   \n",
       "1      0       0       0       0       0       0       0       0       0   \n",
       "2      1       0       0       0       0       0       0       0       0   \n",
       "3      4       0       0       0       0       0       0       0       0   \n",
       "4      0       0       0       0       0       0       0       0       0   \n",
       "\n",
       "   pixel8  ...  pixel774  pixel775  pixel776  pixel777  pixel778  pixel779  \\\n",
       "0       0  ...         0         0         0         0         0         0   \n",
       "1       0  ...         0         0         0         0         0         0   \n",
       "2       0  ...         0         0         0         0         0         0   \n",
       "3       0  ...         0         0         0         0         0         0   \n",
       "4       0  ...         0         0         0         0         0         0   \n",
       "\n",
       "   pixel780  pixel781  pixel782  pixel783  \n",
       "0         0         0         0         0  \n",
       "1         0         0         0         0  \n",
       "2         0         0         0         0  \n",
       "3         0         0         0         0  \n",
       "4         0         0         0         0  \n",
       "\n",
       "[5 rows x 785 columns]"
      ]
     },
     "execution_count": 5,
     "metadata": {},
     "output_type": "execute_result"
    }
   ],
   "source": [
    "#analyse data\n",
    "train.head()"
   ]
  },
  {
   "cell_type": "code",
   "execution_count": 6,
   "metadata": {},
   "outputs": [
    {
     "data": {
      "text/html": [
       "<div>\n",
       "<style scoped>\n",
       "    .dataframe tbody tr th:only-of-type {\n",
       "        vertical-align: middle;\n",
       "    }\n",
       "\n",
       "    .dataframe tbody tr th {\n",
       "        vertical-align: top;\n",
       "    }\n",
       "\n",
       "    .dataframe thead th {\n",
       "        text-align: right;\n",
       "    }\n",
       "</style>\n",
       "<table border=\"1\" class=\"dataframe\">\n",
       "  <thead>\n",
       "    <tr style=\"text-align: right;\">\n",
       "      <th></th>\n",
       "      <th>pixel0</th>\n",
       "      <th>pixel1</th>\n",
       "      <th>pixel2</th>\n",
       "      <th>pixel3</th>\n",
       "      <th>pixel4</th>\n",
       "      <th>pixel5</th>\n",
       "      <th>pixel6</th>\n",
       "      <th>pixel7</th>\n",
       "      <th>pixel8</th>\n",
       "      <th>pixel9</th>\n",
       "      <th>...</th>\n",
       "      <th>pixel774</th>\n",
       "      <th>pixel775</th>\n",
       "      <th>pixel776</th>\n",
       "      <th>pixel777</th>\n",
       "      <th>pixel778</th>\n",
       "      <th>pixel779</th>\n",
       "      <th>pixel780</th>\n",
       "      <th>pixel781</th>\n",
       "      <th>pixel782</th>\n",
       "      <th>pixel783</th>\n",
       "    </tr>\n",
       "  </thead>\n",
       "  <tbody>\n",
       "    <tr>\n",
       "      <th>0</th>\n",
       "      <td>0</td>\n",
       "      <td>0</td>\n",
       "      <td>0</td>\n",
       "      <td>0</td>\n",
       "      <td>0</td>\n",
       "      <td>0</td>\n",
       "      <td>0</td>\n",
       "      <td>0</td>\n",
       "      <td>0</td>\n",
       "      <td>0</td>\n",
       "      <td>...</td>\n",
       "      <td>0</td>\n",
       "      <td>0</td>\n",
       "      <td>0</td>\n",
       "      <td>0</td>\n",
       "      <td>0</td>\n",
       "      <td>0</td>\n",
       "      <td>0</td>\n",
       "      <td>0</td>\n",
       "      <td>0</td>\n",
       "      <td>0</td>\n",
       "    </tr>\n",
       "    <tr>\n",
       "      <th>1</th>\n",
       "      <td>0</td>\n",
       "      <td>0</td>\n",
       "      <td>0</td>\n",
       "      <td>0</td>\n",
       "      <td>0</td>\n",
       "      <td>0</td>\n",
       "      <td>0</td>\n",
       "      <td>0</td>\n",
       "      <td>0</td>\n",
       "      <td>0</td>\n",
       "      <td>...</td>\n",
       "      <td>0</td>\n",
       "      <td>0</td>\n",
       "      <td>0</td>\n",
       "      <td>0</td>\n",
       "      <td>0</td>\n",
       "      <td>0</td>\n",
       "      <td>0</td>\n",
       "      <td>0</td>\n",
       "      <td>0</td>\n",
       "      <td>0</td>\n",
       "    </tr>\n",
       "    <tr>\n",
       "      <th>2</th>\n",
       "      <td>0</td>\n",
       "      <td>0</td>\n",
       "      <td>0</td>\n",
       "      <td>0</td>\n",
       "      <td>0</td>\n",
       "      <td>0</td>\n",
       "      <td>0</td>\n",
       "      <td>0</td>\n",
       "      <td>0</td>\n",
       "      <td>0</td>\n",
       "      <td>...</td>\n",
       "      <td>0</td>\n",
       "      <td>0</td>\n",
       "      <td>0</td>\n",
       "      <td>0</td>\n",
       "      <td>0</td>\n",
       "      <td>0</td>\n",
       "      <td>0</td>\n",
       "      <td>0</td>\n",
       "      <td>0</td>\n",
       "      <td>0</td>\n",
       "    </tr>\n",
       "    <tr>\n",
       "      <th>3</th>\n",
       "      <td>0</td>\n",
       "      <td>0</td>\n",
       "      <td>0</td>\n",
       "      <td>0</td>\n",
       "      <td>0</td>\n",
       "      <td>0</td>\n",
       "      <td>0</td>\n",
       "      <td>0</td>\n",
       "      <td>0</td>\n",
       "      <td>0</td>\n",
       "      <td>...</td>\n",
       "      <td>0</td>\n",
       "      <td>0</td>\n",
       "      <td>0</td>\n",
       "      <td>0</td>\n",
       "      <td>0</td>\n",
       "      <td>0</td>\n",
       "      <td>0</td>\n",
       "      <td>0</td>\n",
       "      <td>0</td>\n",
       "      <td>0</td>\n",
       "    </tr>\n",
       "    <tr>\n",
       "      <th>4</th>\n",
       "      <td>0</td>\n",
       "      <td>0</td>\n",
       "      <td>0</td>\n",
       "      <td>0</td>\n",
       "      <td>0</td>\n",
       "      <td>0</td>\n",
       "      <td>0</td>\n",
       "      <td>0</td>\n",
       "      <td>0</td>\n",
       "      <td>0</td>\n",
       "      <td>...</td>\n",
       "      <td>0</td>\n",
       "      <td>0</td>\n",
       "      <td>0</td>\n",
       "      <td>0</td>\n",
       "      <td>0</td>\n",
       "      <td>0</td>\n",
       "      <td>0</td>\n",
       "      <td>0</td>\n",
       "      <td>0</td>\n",
       "      <td>0</td>\n",
       "    </tr>\n",
       "  </tbody>\n",
       "</table>\n",
       "<p>5 rows × 784 columns</p>\n",
       "</div>"
      ],
      "text/plain": [
       "   pixel0  pixel1  pixel2  pixel3  pixel4  pixel5  pixel6  pixel7  pixel8  \\\n",
       "0       0       0       0       0       0       0       0       0       0   \n",
       "1       0       0       0       0       0       0       0       0       0   \n",
       "2       0       0       0       0       0       0       0       0       0   \n",
       "3       0       0       0       0       0       0       0       0       0   \n",
       "4       0       0       0       0       0       0       0       0       0   \n",
       "\n",
       "   pixel9  ...  pixel774  pixel775  pixel776  pixel777  pixel778  pixel779  \\\n",
       "0       0  ...         0         0         0         0         0         0   \n",
       "1       0  ...         0         0         0         0         0         0   \n",
       "2       0  ...         0         0         0         0         0         0   \n",
       "3       0  ...         0         0         0         0         0         0   \n",
       "4       0  ...         0         0         0         0         0         0   \n",
       "\n",
       "   pixel780  pixel781  pixel782  pixel783  \n",
       "0         0         0         0         0  \n",
       "1         0         0         0         0  \n",
       "2         0         0         0         0  \n",
       "3         0         0         0         0  \n",
       "4         0         0         0         0  \n",
       "\n",
       "[5 rows x 784 columns]"
      ]
     },
     "execution_count": 6,
     "metadata": {},
     "output_type": "execute_result"
    }
   ],
   "source": [
    "test.head()\n",
    "#In Test data there is no label as we have to classify test instances"
   ]
  },
  {
   "cell_type": "code",
   "execution_count": 7,
   "metadata": {},
   "outputs": [
    {
     "data": {
      "text/plain": [
       "(42000, 785)"
      ]
     },
     "execution_count": 7,
     "metadata": {},
     "output_type": "execute_result"
    }
   ],
   "source": [
    "#Find the shape of data\n",
    "train.shape"
   ]
  },
  {
   "cell_type": "code",
   "execution_count": 8,
   "metadata": {},
   "outputs": [
    {
     "data": {
      "text/plain": [
       "(28000, 784)"
      ]
     },
     "execution_count": 8,
     "metadata": {},
     "output_type": "execute_result"
    }
   ],
   "source": [
    "test.shape #train has 42000 rows and 784 columns whereas test has 28000 rows and 784 columns\n",
    "#Each feature here is pixel of given instance"
   ]
  },
  {
   "cell_type": "code",
   "execution_count": 9,
   "metadata": {},
   "outputs": [],
   "source": [
    "#Seperate label from train data\n",
    "y = train['label']\n",
    "X = train.drop('label',axis=1)"
   ]
  },
  {
   "cell_type": "code",
   "execution_count": 10,
   "metadata": {},
   "outputs": [
    {
     "data": {
      "text/html": [
       "<div>\n",
       "<style scoped>\n",
       "    .dataframe tbody tr th:only-of-type {\n",
       "        vertical-align: middle;\n",
       "    }\n",
       "\n",
       "    .dataframe tbody tr th {\n",
       "        vertical-align: top;\n",
       "    }\n",
       "\n",
       "    .dataframe thead th {\n",
       "        text-align: right;\n",
       "    }\n",
       "</style>\n",
       "<table border=\"1\" class=\"dataframe\">\n",
       "  <thead>\n",
       "    <tr style=\"text-align: right;\">\n",
       "      <th></th>\n",
       "      <th>0</th>\n",
       "      <th>1</th>\n",
       "      <th>2</th>\n",
       "      <th>3</th>\n",
       "      <th>4</th>\n",
       "      <th>5</th>\n",
       "      <th>6</th>\n",
       "      <th>7</th>\n",
       "      <th>8</th>\n",
       "      <th>9</th>\n",
       "    </tr>\n",
       "  </thead>\n",
       "  <tbody>\n",
       "    <tr>\n",
       "      <th>0</th>\n",
       "      <td>0</td>\n",
       "      <td>1</td>\n",
       "      <td>0</td>\n",
       "      <td>0</td>\n",
       "      <td>0</td>\n",
       "      <td>0</td>\n",
       "      <td>0</td>\n",
       "      <td>0</td>\n",
       "      <td>0</td>\n",
       "      <td>0</td>\n",
       "    </tr>\n",
       "    <tr>\n",
       "      <th>1</th>\n",
       "      <td>1</td>\n",
       "      <td>0</td>\n",
       "      <td>0</td>\n",
       "      <td>0</td>\n",
       "      <td>0</td>\n",
       "      <td>0</td>\n",
       "      <td>0</td>\n",
       "      <td>0</td>\n",
       "      <td>0</td>\n",
       "      <td>0</td>\n",
       "    </tr>\n",
       "    <tr>\n",
       "      <th>2</th>\n",
       "      <td>0</td>\n",
       "      <td>1</td>\n",
       "      <td>0</td>\n",
       "      <td>0</td>\n",
       "      <td>0</td>\n",
       "      <td>0</td>\n",
       "      <td>0</td>\n",
       "      <td>0</td>\n",
       "      <td>0</td>\n",
       "      <td>0</td>\n",
       "    </tr>\n",
       "    <tr>\n",
       "      <th>3</th>\n",
       "      <td>0</td>\n",
       "      <td>0</td>\n",
       "      <td>0</td>\n",
       "      <td>0</td>\n",
       "      <td>1</td>\n",
       "      <td>0</td>\n",
       "      <td>0</td>\n",
       "      <td>0</td>\n",
       "      <td>0</td>\n",
       "      <td>0</td>\n",
       "    </tr>\n",
       "    <tr>\n",
       "      <th>4</th>\n",
       "      <td>1</td>\n",
       "      <td>0</td>\n",
       "      <td>0</td>\n",
       "      <td>0</td>\n",
       "      <td>0</td>\n",
       "      <td>0</td>\n",
       "      <td>0</td>\n",
       "      <td>0</td>\n",
       "      <td>0</td>\n",
       "      <td>0</td>\n",
       "    </tr>\n",
       "  </tbody>\n",
       "</table>\n",
       "</div>"
      ],
      "text/plain": [
       "   0  1  2  3  4  5  6  7  8  9\n",
       "0  0  1  0  0  0  0  0  0  0  0\n",
       "1  1  0  0  0  0  0  0  0  0  0\n",
       "2  0  1  0  0  0  0  0  0  0  0\n",
       "3  0  0  0  0  1  0  0  0  0  0\n",
       "4  1  0  0  0  0  0  0  0  0  0"
      ]
     },
     "execution_count": 10,
     "metadata": {},
     "output_type": "execute_result"
    }
   ],
   "source": [
    "#Here we convert our 10 integers into one hot encoder (as an array of 10 classes)\n",
    "y = pd.get_dummies(y)\n",
    "y.head()"
   ]
  },
  {
   "cell_type": "code",
   "execution_count": 11,
   "metadata": {},
   "outputs": [
    {
     "data": {
      "text/html": [
       "<div>\n",
       "<style scoped>\n",
       "    .dataframe tbody tr th:only-of-type {\n",
       "        vertical-align: middle;\n",
       "    }\n",
       "\n",
       "    .dataframe tbody tr th {\n",
       "        vertical-align: top;\n",
       "    }\n",
       "\n",
       "    .dataframe thead th {\n",
       "        text-align: right;\n",
       "    }\n",
       "</style>\n",
       "<table border=\"1\" class=\"dataframe\">\n",
       "  <thead>\n",
       "    <tr style=\"text-align: right;\">\n",
       "      <th></th>\n",
       "      <th>pixel0</th>\n",
       "      <th>pixel1</th>\n",
       "      <th>pixel2</th>\n",
       "      <th>pixel3</th>\n",
       "      <th>pixel4</th>\n",
       "      <th>pixel5</th>\n",
       "      <th>pixel6</th>\n",
       "      <th>pixel7</th>\n",
       "      <th>pixel8</th>\n",
       "      <th>pixel9</th>\n",
       "      <th>...</th>\n",
       "      <th>pixel774</th>\n",
       "      <th>pixel775</th>\n",
       "      <th>pixel776</th>\n",
       "      <th>pixel777</th>\n",
       "      <th>pixel778</th>\n",
       "      <th>pixel779</th>\n",
       "      <th>pixel780</th>\n",
       "      <th>pixel781</th>\n",
       "      <th>pixel782</th>\n",
       "      <th>pixel783</th>\n",
       "    </tr>\n",
       "  </thead>\n",
       "  <tbody>\n",
       "    <tr>\n",
       "      <th>count</th>\n",
       "      <td>42000.0</td>\n",
       "      <td>42000.0</td>\n",
       "      <td>42000.0</td>\n",
       "      <td>42000.0</td>\n",
       "      <td>42000.0</td>\n",
       "      <td>42000.0</td>\n",
       "      <td>42000.0</td>\n",
       "      <td>42000.0</td>\n",
       "      <td>42000.0</td>\n",
       "      <td>42000.0</td>\n",
       "      <td>...</td>\n",
       "      <td>42000.000000</td>\n",
       "      <td>42000.000000</td>\n",
       "      <td>42000.000000</td>\n",
       "      <td>42000.00000</td>\n",
       "      <td>42000.000000</td>\n",
       "      <td>42000.000000</td>\n",
       "      <td>42000.0</td>\n",
       "      <td>42000.0</td>\n",
       "      <td>42000.0</td>\n",
       "      <td>42000.0</td>\n",
       "    </tr>\n",
       "    <tr>\n",
       "      <th>mean</th>\n",
       "      <td>0.0</td>\n",
       "      <td>0.0</td>\n",
       "      <td>0.0</td>\n",
       "      <td>0.0</td>\n",
       "      <td>0.0</td>\n",
       "      <td>0.0</td>\n",
       "      <td>0.0</td>\n",
       "      <td>0.0</td>\n",
       "      <td>0.0</td>\n",
       "      <td>0.0</td>\n",
       "      <td>...</td>\n",
       "      <td>0.219286</td>\n",
       "      <td>0.117095</td>\n",
       "      <td>0.059024</td>\n",
       "      <td>0.02019</td>\n",
       "      <td>0.017238</td>\n",
       "      <td>0.002857</td>\n",
       "      <td>0.0</td>\n",
       "      <td>0.0</td>\n",
       "      <td>0.0</td>\n",
       "      <td>0.0</td>\n",
       "    </tr>\n",
       "    <tr>\n",
       "      <th>std</th>\n",
       "      <td>0.0</td>\n",
       "      <td>0.0</td>\n",
       "      <td>0.0</td>\n",
       "      <td>0.0</td>\n",
       "      <td>0.0</td>\n",
       "      <td>0.0</td>\n",
       "      <td>0.0</td>\n",
       "      <td>0.0</td>\n",
       "      <td>0.0</td>\n",
       "      <td>0.0</td>\n",
       "      <td>...</td>\n",
       "      <td>6.312890</td>\n",
       "      <td>4.633819</td>\n",
       "      <td>3.274488</td>\n",
       "      <td>1.75987</td>\n",
       "      <td>1.894498</td>\n",
       "      <td>0.414264</td>\n",
       "      <td>0.0</td>\n",
       "      <td>0.0</td>\n",
       "      <td>0.0</td>\n",
       "      <td>0.0</td>\n",
       "    </tr>\n",
       "    <tr>\n",
       "      <th>min</th>\n",
       "      <td>0.0</td>\n",
       "      <td>0.0</td>\n",
       "      <td>0.0</td>\n",
       "      <td>0.0</td>\n",
       "      <td>0.0</td>\n",
       "      <td>0.0</td>\n",
       "      <td>0.0</td>\n",
       "      <td>0.0</td>\n",
       "      <td>0.0</td>\n",
       "      <td>0.0</td>\n",
       "      <td>...</td>\n",
       "      <td>0.000000</td>\n",
       "      <td>0.000000</td>\n",
       "      <td>0.000000</td>\n",
       "      <td>0.00000</td>\n",
       "      <td>0.000000</td>\n",
       "      <td>0.000000</td>\n",
       "      <td>0.0</td>\n",
       "      <td>0.0</td>\n",
       "      <td>0.0</td>\n",
       "      <td>0.0</td>\n",
       "    </tr>\n",
       "    <tr>\n",
       "      <th>25%</th>\n",
       "      <td>0.0</td>\n",
       "      <td>0.0</td>\n",
       "      <td>0.0</td>\n",
       "      <td>0.0</td>\n",
       "      <td>0.0</td>\n",
       "      <td>0.0</td>\n",
       "      <td>0.0</td>\n",
       "      <td>0.0</td>\n",
       "      <td>0.0</td>\n",
       "      <td>0.0</td>\n",
       "      <td>...</td>\n",
       "      <td>0.000000</td>\n",
       "      <td>0.000000</td>\n",
       "      <td>0.000000</td>\n",
       "      <td>0.00000</td>\n",
       "      <td>0.000000</td>\n",
       "      <td>0.000000</td>\n",
       "      <td>0.0</td>\n",
       "      <td>0.0</td>\n",
       "      <td>0.0</td>\n",
       "      <td>0.0</td>\n",
       "    </tr>\n",
       "    <tr>\n",
       "      <th>50%</th>\n",
       "      <td>0.0</td>\n",
       "      <td>0.0</td>\n",
       "      <td>0.0</td>\n",
       "      <td>0.0</td>\n",
       "      <td>0.0</td>\n",
       "      <td>0.0</td>\n",
       "      <td>0.0</td>\n",
       "      <td>0.0</td>\n",
       "      <td>0.0</td>\n",
       "      <td>0.0</td>\n",
       "      <td>...</td>\n",
       "      <td>0.000000</td>\n",
       "      <td>0.000000</td>\n",
       "      <td>0.000000</td>\n",
       "      <td>0.00000</td>\n",
       "      <td>0.000000</td>\n",
       "      <td>0.000000</td>\n",
       "      <td>0.0</td>\n",
       "      <td>0.0</td>\n",
       "      <td>0.0</td>\n",
       "      <td>0.0</td>\n",
       "    </tr>\n",
       "    <tr>\n",
       "      <th>75%</th>\n",
       "      <td>0.0</td>\n",
       "      <td>0.0</td>\n",
       "      <td>0.0</td>\n",
       "      <td>0.0</td>\n",
       "      <td>0.0</td>\n",
       "      <td>0.0</td>\n",
       "      <td>0.0</td>\n",
       "      <td>0.0</td>\n",
       "      <td>0.0</td>\n",
       "      <td>0.0</td>\n",
       "      <td>...</td>\n",
       "      <td>0.000000</td>\n",
       "      <td>0.000000</td>\n",
       "      <td>0.000000</td>\n",
       "      <td>0.00000</td>\n",
       "      <td>0.000000</td>\n",
       "      <td>0.000000</td>\n",
       "      <td>0.0</td>\n",
       "      <td>0.0</td>\n",
       "      <td>0.0</td>\n",
       "      <td>0.0</td>\n",
       "    </tr>\n",
       "    <tr>\n",
       "      <th>max</th>\n",
       "      <td>0.0</td>\n",
       "      <td>0.0</td>\n",
       "      <td>0.0</td>\n",
       "      <td>0.0</td>\n",
       "      <td>0.0</td>\n",
       "      <td>0.0</td>\n",
       "      <td>0.0</td>\n",
       "      <td>0.0</td>\n",
       "      <td>0.0</td>\n",
       "      <td>0.0</td>\n",
       "      <td>...</td>\n",
       "      <td>254.000000</td>\n",
       "      <td>254.000000</td>\n",
       "      <td>253.000000</td>\n",
       "      <td>253.00000</td>\n",
       "      <td>254.000000</td>\n",
       "      <td>62.000000</td>\n",
       "      <td>0.0</td>\n",
       "      <td>0.0</td>\n",
       "      <td>0.0</td>\n",
       "      <td>0.0</td>\n",
       "    </tr>\n",
       "  </tbody>\n",
       "</table>\n",
       "<p>8 rows × 784 columns</p>\n",
       "</div>"
      ],
      "text/plain": [
       "        pixel0   pixel1   pixel2   pixel3   pixel4   pixel5   pixel6   pixel7  \\\n",
       "count  42000.0  42000.0  42000.0  42000.0  42000.0  42000.0  42000.0  42000.0   \n",
       "mean       0.0      0.0      0.0      0.0      0.0      0.0      0.0      0.0   \n",
       "std        0.0      0.0      0.0      0.0      0.0      0.0      0.0      0.0   \n",
       "min        0.0      0.0      0.0      0.0      0.0      0.0      0.0      0.0   \n",
       "25%        0.0      0.0      0.0      0.0      0.0      0.0      0.0      0.0   \n",
       "50%        0.0      0.0      0.0      0.0      0.0      0.0      0.0      0.0   \n",
       "75%        0.0      0.0      0.0      0.0      0.0      0.0      0.0      0.0   \n",
       "max        0.0      0.0      0.0      0.0      0.0      0.0      0.0      0.0   \n",
       "\n",
       "        pixel8   pixel9  ...      pixel774      pixel775      pixel776  \\\n",
       "count  42000.0  42000.0  ...  42000.000000  42000.000000  42000.000000   \n",
       "mean       0.0      0.0  ...      0.219286      0.117095      0.059024   \n",
       "std        0.0      0.0  ...      6.312890      4.633819      3.274488   \n",
       "min        0.0      0.0  ...      0.000000      0.000000      0.000000   \n",
       "25%        0.0      0.0  ...      0.000000      0.000000      0.000000   \n",
       "50%        0.0      0.0  ...      0.000000      0.000000      0.000000   \n",
       "75%        0.0      0.0  ...      0.000000      0.000000      0.000000   \n",
       "max        0.0      0.0  ...    254.000000    254.000000    253.000000   \n",
       "\n",
       "          pixel777      pixel778      pixel779  pixel780  pixel781  pixel782  \\\n",
       "count  42000.00000  42000.000000  42000.000000   42000.0   42000.0   42000.0   \n",
       "mean       0.02019      0.017238      0.002857       0.0       0.0       0.0   \n",
       "std        1.75987      1.894498      0.414264       0.0       0.0       0.0   \n",
       "min        0.00000      0.000000      0.000000       0.0       0.0       0.0   \n",
       "25%        0.00000      0.000000      0.000000       0.0       0.0       0.0   \n",
       "50%        0.00000      0.000000      0.000000       0.0       0.0       0.0   \n",
       "75%        0.00000      0.000000      0.000000       0.0       0.0       0.0   \n",
       "max      253.00000    254.000000     62.000000       0.0       0.0       0.0   \n",
       "\n",
       "       pixel783  \n",
       "count   42000.0  \n",
       "mean        0.0  \n",
       "std         0.0  \n",
       "min         0.0  \n",
       "25%         0.0  \n",
       "50%         0.0  \n",
       "75%         0.0  \n",
       "max         0.0  \n",
       "\n",
       "[8 rows x 784 columns]"
      ]
     },
     "execution_count": 11,
     "metadata": {},
     "output_type": "execute_result"
    }
   ],
   "source": [
    "X.describe()"
   ]
  },
  {
   "cell_type": "code",
   "execution_count": 12,
   "metadata": {},
   "outputs": [],
   "source": [
    "#scaling pixel intensities down to the 0-1 range by dividing them by 255. \n",
    "X = X/255\n",
    "test = test/255"
   ]
  },
  {
   "cell_type": "code",
   "execution_count": 13,
   "metadata": {},
   "outputs": [],
   "source": [
    "# every image should be represented as a 28×28 array\n",
    "# so converting each row of 784 columns in 28x28 array\n",
    "X = X.values.reshape(-1,28,28,1)\n",
    "test = test.values.reshape(-1,28,28,1)"
   ]
  },
  {
   "cell_type": "code",
   "execution_count": 14,
   "metadata": {},
   "outputs": [
    {
     "data": {
      "image/png": "[encoded data removed]",
      "text/plain": [
       "<Figure size 432x288 with 1 Axes>"
      ]
     },
     "metadata": {
      "needs_background": "light"
     },
     "output_type": "display_data"
    }
   ],
   "source": [
    "image = X[0]\n",
    "plt.imshow(image,cmap=mpl.cm.binary,interpolation=\"nearest\")\n",
    "plt.axis(\"off\")\n",
    "plt.show()"
   ]
  },
  {
   "cell_type": "code",
   "execution_count": 15,
   "metadata": {},
   "outputs": [],
   "source": [
    "X_train, X_valid, y_train, y_valid = train_test_split(X,y,test_size = 0.2, random_state = 42)"
   ]
  },
  {
   "cell_type": "code",
   "execution_count": 16,
   "metadata": {},
   "outputs": [
    {
     "name": "stdout",
     "output_type": "stream",
     "text": [
      "(33600, 28, 28, 1)\n",
      "(8400, 28, 28, 1)\n",
      "(33600, 10)\n",
      "(8400, 10)\n"
     ]
    }
   ],
   "source": [
    "print(X_train.shape)\n",
    "print(X_valid.shape)\n",
    "print(y_train.shape)\n",
    "print(y_valid.shape)"
   ]
  },
  {
   "cell_type": "code",
   "execution_count": 17,
   "metadata": {},
   "outputs": [],
   "source": [
    "#Creating a NN model using single hidden layer\n",
    "\n",
    "\n",
    "def define_model(activations):\n",
    "    model =keras.models.Sequential()\n",
    "    model.add(keras.layers.Flatten(input_shape=[28,28]))\n",
    "    model.add(keras.layers.Dense(150,activation=activations))\n",
    "    model.add(keras.layers.Dense(10, activation=\"softmax\"))\n",
    "    optimizer = keras.optimizers.RMSprop(learning_rate=0.001, rho=0.9, epsilon=1e-08, decay=0.0)\n",
    "    model.compile(optimizer=optimizer,loss=tf.keras.losses.CategoricalCrossentropy(),metrics=['accuracy'])\n",
    "    return model"
   ]
  },
  {
   "cell_type": "code",
   "execution_count": 34,
   "metadata": {},
   "outputs": [
    {
     "name": "stdout",
     "output_type": "stream",
     "text": [
      "Epoch 1/50\n",
      "1050/1050 - 6s - loss: 0.3084 - accuracy: 0.9126 - val_loss: 0.1874 - val_accuracy: 0.9464\n",
      "Epoch 2/50\n",
      "1050/1050 - 5s - loss: 0.1467 - accuracy: 0.9563 - val_loss: 0.1326 - val_accuracy: 0.9617\n",
      "Epoch 3/50\n",
      "1050/1050 - 8s - loss: 0.1049 - accuracy: 0.9688 - val_loss: 0.1175 - val_accuracy: 0.9662\n",
      "Epoch 4/50\n",
      "1050/1050 - 7s - loss: 0.0805 - accuracy: 0.9767 - val_loss: 0.1141 - val_accuracy: 0.9661\n",
      "Epoch 5/50\n",
      "1050/1050 - 9s - loss: 0.0648 - accuracy: 0.9814 - val_loss: 0.1076 - val_accuracy: 0.9699\n",
      "Epoch 6/50\n",
      "1050/1050 - 5s - loss: 0.0519 - accuracy: 0.9854 - val_loss: 0.1099 - val_accuracy: 0.9708\n",
      "Epoch 7/50\n",
      "1050/1050 - 5s - loss: 0.0448 - accuracy: 0.9870 - val_loss: 0.1034 - val_accuracy: 0.9719\n",
      "Epoch 8/50\n",
      "1050/1050 - 4s - loss: 0.0368 - accuracy: 0.9889 - val_loss: 0.1018 - val_accuracy: 0.9749\n",
      "Epoch 9/50\n",
      "1050/1050 - 5s - loss: 0.0313 - accuracy: 0.9910 - val_loss: 0.1003 - val_accuracy: 0.9758\n",
      "Epoch 10/50\n",
      "1050/1050 - 5s - loss: 0.0262 - accuracy: 0.9927 - val_loss: 0.1140 - val_accuracy: 0.9730\n",
      "Epoch 11/50\n",
      "1050/1050 - 5s - loss: 0.0222 - accuracy: 0.9935 - val_loss: 0.1249 - val_accuracy: 0.9717\n",
      "Epoch 12/50\n",
      "1050/1050 - 6s - loss: 0.0189 - accuracy: 0.9948 - val_loss: 0.1214 - val_accuracy: 0.9731\n",
      "Epoch 13/50\n",
      "1050/1050 - 9s - loss: 0.0161 - accuracy: 0.9957 - val_loss: 0.1206 - val_accuracy: 0.9748\n",
      "Epoch 14/50\n",
      "1050/1050 - 8s - loss: 0.0136 - accuracy: 0.9961 - val_loss: 0.1420 - val_accuracy: 0.9713\n",
      "Epoch 15/50\n",
      "1050/1050 - 8s - loss: 0.0115 - accuracy: 0.9970 - val_loss: 0.1259 - val_accuracy: 0.9754\n",
      "Epoch 16/50\n",
      "1050/1050 - 8s - loss: 0.0099 - accuracy: 0.9973 - val_loss: 0.1276 - val_accuracy: 0.9765\n",
      "Epoch 17/50\n",
      "1050/1050 - 8s - loss: 0.0084 - accuracy: 0.9979 - val_loss: 0.1375 - val_accuracy: 0.9756\n",
      "Epoch 18/50\n",
      "1050/1050 - 9s - loss: 0.0071 - accuracy: 0.9984 - val_loss: 0.1360 - val_accuracy: 0.9743\n",
      "Epoch 19/50\n",
      "1050/1050 - 6s - loss: 0.0060 - accuracy: 0.9985 - val_loss: 0.1412 - val_accuracy: 0.9755\n",
      "Epoch 20/50\n",
      "1050/1050 - 9s - loss: 0.0056 - accuracy: 0.9985 - val_loss: 0.1476 - val_accuracy: 0.9737\n",
      "Epoch 21/50\n",
      "1050/1050 - 8s - loss: 0.0046 - accuracy: 0.9990 - val_loss: 0.1557 - val_accuracy: 0.9745\n",
      "Epoch 22/50\n",
      "1050/1050 - 13s - loss: 0.0039 - accuracy: 0.9990 - val_loss: 0.1579 - val_accuracy: 0.9752\n",
      "Epoch 23/50\n",
      "1050/1050 - 10s - loss: 0.0038 - accuracy: 0.9992 - val_loss: 0.1707 - val_accuracy: 0.9749\n",
      "Epoch 24/50\n",
      "1050/1050 - 5s - loss: 0.0032 - accuracy: 0.9994 - val_loss: 0.1731 - val_accuracy: 0.9740\n",
      "Epoch 25/50\n",
      "1050/1050 - 5s - loss: 0.0028 - accuracy: 0.9993 - val_loss: 0.1788 - val_accuracy: 0.9731\n",
      "Epoch 26/50\n",
      "1050/1050 - 5s - loss: 0.0027 - accuracy: 0.9996 - val_loss: 0.1762 - val_accuracy: 0.9746\n",
      "Epoch 27/50\n",
      "1050/1050 - 8s - loss: 0.0020 - accuracy: 0.9995 - val_loss: 0.1819 - val_accuracy: 0.9746\n",
      "Epoch 28/50\n",
      "1050/1050 - 9s - loss: 0.0019 - accuracy: 0.9996 - val_loss: 0.1870 - val_accuracy: 0.9750\n",
      "Epoch 29/50\n",
      "1050/1050 - 6s - loss: 0.0016 - accuracy: 0.9997 - val_loss: 0.2022 - val_accuracy: 0.9738\n",
      "Epoch 30/50\n",
      "1050/1050 - 6s - loss: 0.0016 - accuracy: 0.9997 - val_loss: 0.2008 - val_accuracy: 0.9730\n",
      "Epoch 31/50\n",
      "1050/1050 - 5s - loss: 0.0013 - accuracy: 0.9999 - val_loss: 0.2166 - val_accuracy: 0.9739\n",
      "Epoch 32/50\n",
      "1050/1050 - 5s - loss: 0.0011 - accuracy: 0.9997 - val_loss: 0.2093 - val_accuracy: 0.9745\n",
      "Epoch 33/50\n",
      "1050/1050 - 5s - loss: 0.0013 - accuracy: 0.9998 - val_loss: 0.2156 - val_accuracy: 0.9726\n",
      "Epoch 34/50\n",
      "1050/1050 - 8s - loss: 0.0010 - accuracy: 0.9998 - val_loss: 0.2223 - val_accuracy: 0.9743\n",
      "Epoch 35/50\n",
      "1050/1050 - 8s - loss: 0.0012 - accuracy: 0.9998 - val_loss: 0.2251 - val_accuracy: 0.9718\n",
      "Epoch 36/50\n",
      "1050/1050 - 6s - loss: 5.3670e-04 - accuracy: 0.9999 - val_loss: 0.2432 - val_accuracy: 0.9721\n",
      "Epoch 37/50\n",
      "1050/1050 - 7s - loss: 5.9714e-04 - accuracy: 0.9999 - val_loss: 0.2338 - val_accuracy: 0.9758\n",
      "Epoch 38/50\n",
      "1050/1050 - 9s - loss: 5.1524e-04 - accuracy: 0.9999 - val_loss: 0.2426 - val_accuracy: 0.9739\n",
      "Epoch 39/50\n",
      "1050/1050 - 9s - loss: 4.8845e-04 - accuracy: 1.0000 - val_loss: 0.2494 - val_accuracy: 0.9742\n",
      "Epoch 40/50\n",
      "1050/1050 - 6s - loss: 5.8595e-04 - accuracy: 0.9999 - val_loss: 0.2598 - val_accuracy: 0.9736\n",
      "Epoch 41/50\n",
      "1050/1050 - 6s - loss: 4.6735e-04 - accuracy: 0.9999 - val_loss: 0.2443 - val_accuracy: 0.9758\n",
      "Epoch 42/50\n",
      "1050/1050 - 7s - loss: 2.6817e-04 - accuracy: 0.9999 - val_loss: 0.2601 - val_accuracy: 0.9735\n",
      "Epoch 43/50\n",
      "1050/1050 - 7s - loss: 3.2928e-04 - accuracy: 0.9999 - val_loss: 0.2657 - val_accuracy: 0.9749\n",
      "Epoch 44/50\n",
      "1050/1050 - 5s - loss: 2.4944e-04 - accuracy: 0.9999 - val_loss: 0.2644 - val_accuracy: 0.9736\n",
      "Epoch 45/50\n",
      "1050/1050 - 5s - loss: 1.2309e-04 - accuracy: 1.0000 - val_loss: 0.2747 - val_accuracy: 0.9737\n",
      "Epoch 46/50\n",
      "1050/1050 - 5s - loss: 3.4089e-04 - accuracy: 0.9999 - val_loss: 0.2763 - val_accuracy: 0.9743\n",
      "Epoch 47/50\n",
      "1050/1050 - 6s - loss: 2.0415e-04 - accuracy: 1.0000 - val_loss: 0.2794 - val_accuracy: 0.9744\n",
      "Epoch 48/50\n",
      "1050/1050 - 7s - loss: 2.3057e-04 - accuracy: 1.0000 - val_loss: 0.2928 - val_accuracy: 0.9739\n",
      "Epoch 49/50\n",
      "1050/1050 - 5s - loss: 2.9231e-05 - accuracy: 1.0000 - val_loss: 0.2816 - val_accuracy: 0.9757\n",
      "Epoch 50/50\n",
      "1050/1050 - 7s - loss: 1.7327e-04 - accuracy: 0.9999 - val_loss: 0.2989 - val_accuracy: 0.9748\n"
     ]
    }
   ],
   "source": [
    "model1 = define_model(\"relu\")\n",
    "history = model1.fit(X_train,y_train,epochs= 50, verbose = 2,validation_data=(X_valid, y_valid))"
   ]
  },
  {
   "cell_type": "code",
   "execution_count": 27,
   "metadata": {},
   "outputs": [
    {
     "name": "stdout",
     "output_type": "stream",
     "text": [
      "Epoch 1/50\n",
      "1050/1050 - 12s - loss: 0.3295 - accuracy: 0.9041 - val_loss: 0.2349 - val_accuracy: 0.9300\n",
      "Epoch 2/50\n",
      "1050/1050 - 5s - loss: 0.1762 - accuracy: 0.9483 - val_loss: 0.1696 - val_accuracy: 0.9498\n",
      "Epoch 3/50\n",
      "1050/1050 - 4s - loss: 0.1268 - accuracy: 0.9621 - val_loss: 0.1332 - val_accuracy: 0.9594\n",
      "Epoch 4/50\n",
      "1050/1050 - 4s - loss: 0.0974 - accuracy: 0.9710 - val_loss: 0.1222 - val_accuracy: 0.9625\n",
      "Epoch 5/50\n",
      "1050/1050 - 5s - loss: 0.0793 - accuracy: 0.9771 - val_loss: 0.1083 - val_accuracy: 0.9679\n",
      "Epoch 6/50\n",
      "1050/1050 - 5s - loss: 0.0645 - accuracy: 0.9817 - val_loss: 0.1024 - val_accuracy: 0.9683\n",
      "Epoch 7/50\n",
      "1050/1050 - 4s - loss: 0.0548 - accuracy: 0.9836 - val_loss: 0.1022 - val_accuracy: 0.9705\n",
      "Epoch 8/50\n",
      "1050/1050 - 5s - loss: 0.0463 - accuracy: 0.9871 - val_loss: 0.0943 - val_accuracy: 0.9725\n",
      "Epoch 9/50\n",
      "1050/1050 - 5s - loss: 0.0401 - accuracy: 0.9889 - val_loss: 0.0968 - val_accuracy: 0.9714\n",
      "Epoch 10/50\n",
      "1050/1050 - 6s - loss: 0.0341 - accuracy: 0.9905 - val_loss: 0.0909 - val_accuracy: 0.9730\n",
      "Epoch 11/50\n",
      "1050/1050 - 5s - loss: 0.0286 - accuracy: 0.9921 - val_loss: 0.0937 - val_accuracy: 0.9726\n",
      "Epoch 12/50\n",
      "1050/1050 - 5s - loss: 0.0245 - accuracy: 0.9932 - val_loss: 0.0939 - val_accuracy: 0.9730\n",
      "Epoch 13/50\n",
      "1050/1050 - 5s - loss: 0.0205 - accuracy: 0.9946 - val_loss: 0.0923 - val_accuracy: 0.9738\n",
      "Epoch 14/50\n",
      "1050/1050 - 5s - loss: 0.0174 - accuracy: 0.9953 - val_loss: 0.0922 - val_accuracy: 0.9730\n",
      "Epoch 15/50\n",
      "1050/1050 - 4s - loss: 0.0152 - accuracy: 0.9962 - val_loss: 0.1001 - val_accuracy: 0.9721\n",
      "Epoch 16/50\n",
      "1050/1050 - 5s - loss: 0.0128 - accuracy: 0.9970 - val_loss: 0.1089 - val_accuracy: 0.9701\n",
      "Epoch 17/50\n",
      "1050/1050 - 5s - loss: 0.0111 - accuracy: 0.9973 - val_loss: 0.0943 - val_accuracy: 0.9748\n",
      "Epoch 18/50\n",
      "1050/1050 - 5s - loss: 0.0095 - accuracy: 0.9977 - val_loss: 0.0956 - val_accuracy: 0.9742\n",
      "Epoch 19/50\n",
      "1050/1050 - 5s - loss: 0.0079 - accuracy: 0.9981 - val_loss: 0.0969 - val_accuracy: 0.9745\n",
      "Epoch 20/50\n",
      "1050/1050 - 7s - loss: 0.0071 - accuracy: 0.9985 - val_loss: 0.1008 - val_accuracy: 0.9730\n",
      "Epoch 21/50\n",
      "1050/1050 - 6s - loss: 0.0055 - accuracy: 0.9988 - val_loss: 0.1022 - val_accuracy: 0.9742\n",
      "Epoch 22/50\n",
      "1050/1050 - 5s - loss: 0.0051 - accuracy: 0.9990 - val_loss: 0.1017 - val_accuracy: 0.9738\n",
      "Epoch 23/50\n",
      "1050/1050 - 7s - loss: 0.0043 - accuracy: 0.9991 - val_loss: 0.1051 - val_accuracy: 0.9721\n",
      "Epoch 24/50\n",
      "1050/1050 - 6s - loss: 0.0039 - accuracy: 0.9992 - val_loss: 0.1054 - val_accuracy: 0.9737\n",
      "Epoch 25/50\n",
      "1050/1050 - 4s - loss: 0.0030 - accuracy: 0.9995 - val_loss: 0.1118 - val_accuracy: 0.9733\n",
      "Epoch 26/50\n",
      "1050/1050 - 5s - loss: 0.0027 - accuracy: 0.9995 - val_loss: 0.1214 - val_accuracy: 0.9719\n",
      "Epoch 27/50\n",
      "1050/1050 - 4s - loss: 0.0024 - accuracy: 0.9995 - val_loss: 0.1200 - val_accuracy: 0.9742\n",
      "Epoch 28/50\n",
      "1050/1050 - 5s - loss: 0.0020 - accuracy: 0.9996 - val_loss: 0.1197 - val_accuracy: 0.9731\n",
      "Epoch 29/50\n",
      "1050/1050 - 5s - loss: 0.0019 - accuracy: 0.9996 - val_loss: 0.1170 - val_accuracy: 0.9737\n",
      "Epoch 30/50\n",
      "1050/1050 - 4s - loss: 0.0015 - accuracy: 0.9996 - val_loss: 0.1174 - val_accuracy: 0.9748\n",
      "Epoch 31/50\n",
      "1050/1050 - 5s - loss: 0.0015 - accuracy: 0.9996 - val_loss: 0.1235 - val_accuracy: 0.9737\n",
      "Epoch 32/50\n",
      "1050/1050 - 4s - loss: 9.7483e-04 - accuracy: 0.9998 - val_loss: 0.1261 - val_accuracy: 0.9737\n",
      "Epoch 33/50\n",
      "1050/1050 - 6s - loss: 0.0011 - accuracy: 0.9998 - val_loss: 0.1287 - val_accuracy: 0.9732\n",
      "Epoch 34/50\n",
      "1050/1050 - 5s - loss: 9.8160e-04 - accuracy: 0.9998 - val_loss: 0.1299 - val_accuracy: 0.9745\n",
      "Epoch 35/50\n",
      "1050/1050 - 5s - loss: 7.9366e-04 - accuracy: 0.9998 - val_loss: 0.1336 - val_accuracy: 0.9736\n",
      "Epoch 36/50\n",
      "1050/1050 - 5s - loss: 6.8369e-04 - accuracy: 0.9999 - val_loss: 0.1389 - val_accuracy: 0.9727\n",
      "Epoch 37/50\n",
      "1050/1050 - 5s - loss: 6.0480e-04 - accuracy: 0.9999 - val_loss: 0.1365 - val_accuracy: 0.9748\n",
      "Epoch 38/50\n",
      "1050/1050 - 5s - loss: 5.3487e-04 - accuracy: 0.9999 - val_loss: 0.1451 - val_accuracy: 0.9740\n",
      "Epoch 39/50\n",
      "1050/1050 - 5s - loss: 5.4797e-04 - accuracy: 0.9999 - val_loss: 0.1457 - val_accuracy: 0.9731\n",
      "Epoch 40/50\n",
      "1050/1050 - 6s - loss: 3.6913e-04 - accuracy: 0.9999 - val_loss: 0.1447 - val_accuracy: 0.9737\n",
      "Epoch 41/50\n",
      "1050/1050 - 5s - loss: 4.3676e-04 - accuracy: 0.9999 - val_loss: 0.1509 - val_accuracy: 0.9736\n",
      "Epoch 42/50\n",
      "1050/1050 - 5s - loss: 4.2993e-04 - accuracy: 0.9999 - val_loss: 0.1541 - val_accuracy: 0.9744\n",
      "Epoch 43/50\n",
      "1050/1050 - 5s - loss: 4.1511e-04 - accuracy: 0.9999 - val_loss: 0.1605 - val_accuracy: 0.9725\n",
      "Epoch 44/50\n",
      "1050/1050 - 5s - loss: 3.3531e-04 - accuracy: 0.9999 - val_loss: 0.1636 - val_accuracy: 0.9729\n",
      "Epoch 45/50\n",
      "1050/1050 - 5s - loss: 1.9732e-04 - accuracy: 0.9999 - val_loss: 0.1648 - val_accuracy: 0.9726\n",
      "Epoch 46/50\n",
      "1050/1050 - 4s - loss: 2.7220e-04 - accuracy: 0.9999 - val_loss: 0.1706 - val_accuracy: 0.9732\n",
      "Epoch 47/50\n",
      "1050/1050 - 5s - loss: 1.0023e-04 - accuracy: 0.9999 - val_loss: 0.1733 - val_accuracy: 0.9729\n",
      "Epoch 48/50\n",
      "1050/1050 - 4s - loss: 2.7638e-04 - accuracy: 0.9999 - val_loss: 0.1734 - val_accuracy: 0.9736\n",
      "Epoch 49/50\n",
      "1050/1050 - 5s - loss: 1.7752e-04 - accuracy: 0.9999 - val_loss: 0.1774 - val_accuracy: 0.9726\n",
      "Epoch 50/50\n",
      "1050/1050 - 5s - loss: 7.7854e-05 - accuracy: 1.0000 - val_loss: 0.1795 - val_accuracy: 0.9739\n"
     ]
    }
   ],
   "source": [
    "model2 = define_model(\"tanh\")\n",
    "history2 = model2.fit(X_train,y_train,epochs=50, verbose = 2,validation_data=(X_valid, y_valid))"
   ]
  },
  {
   "cell_type": "code",
   "execution_count": 32,
   "metadata": {},
   "outputs": [
    {
     "name": "stdout",
     "output_type": "stream",
     "text": [
      "Epoch 1/50\n",
      "1050/1050 - 5s - loss: 7.7261e-05 - accuracy: 1.0000 - val_loss: 0.1889 - val_accuracy: 0.9733\n",
      "Epoch 2/50\n",
      "1050/1050 - 5s - loss: 2.0682e-05 - accuracy: 1.0000 - val_loss: 0.1936 - val_accuracy: 0.9724\n",
      "Epoch 3/50\n",
      "1050/1050 - 5s - loss: 9.5549e-05 - accuracy: 1.0000 - val_loss: 0.1933 - val_accuracy: 0.9744\n",
      "Epoch 4/50\n",
      "1050/1050 - 5s - loss: 9.6878e-05 - accuracy: 1.0000 - val_loss: 0.1956 - val_accuracy: 0.9731\n",
      "Epoch 5/50\n",
      "1050/1050 - 4s - loss: 6.3986e-05 - accuracy: 1.0000 - val_loss: 0.1996 - val_accuracy: 0.9733\n",
      "Epoch 6/50\n",
      "1050/1050 - 5s - loss: 1.5331e-06 - accuracy: 1.0000 - val_loss: 0.2024 - val_accuracy: 0.9742\n",
      "Epoch 7/50\n",
      "1050/1050 - 5s - loss: 1.0060e-05 - accuracy: 1.0000 - val_loss: 0.2029 - val_accuracy: 0.9748\n",
      "Epoch 8/50\n",
      "1050/1050 - 4s - loss: 4.6239e-05 - accuracy: 1.0000 - val_loss: 0.2093 - val_accuracy: 0.9738\n",
      "Epoch 9/50\n",
      "1050/1050 - 5s - loss: 1.5335e-06 - accuracy: 1.0000 - val_loss: 0.2091 - val_accuracy: 0.9733\n",
      "Epoch 10/50\n",
      "1050/1050 - 5s - loss: 3.5211e-06 - accuracy: 1.0000 - val_loss: 0.2075 - val_accuracy: 0.9733\n",
      "Epoch 11/50\n",
      "1050/1050 - 4s - loss: 1.3475e-07 - accuracy: 1.0000 - val_loss: 0.2127 - val_accuracy: 0.9735\n",
      "Epoch 12/50\n",
      "1050/1050 - 5s - loss: 1.2663e-06 - accuracy: 1.0000 - val_loss: 0.2101 - val_accuracy: 0.9733\n",
      "Epoch 13/50\n",
      "1050/1050 - 4s - loss: 2.4588e-08 - accuracy: 1.0000 - val_loss: 0.2106 - val_accuracy: 0.9737\n",
      "Epoch 14/50\n",
      "1050/1050 - 5s - loss: 2.3535e-07 - accuracy: 1.0000 - val_loss: 0.2087 - val_accuracy: 0.9743\n",
      "Epoch 15/50\n",
      "1050/1050 - 5s - loss: 2.8716e-08 - accuracy: 1.0000 - val_loss: 0.2101 - val_accuracy: 0.9743\n",
      "Epoch 16/50\n",
      "1050/1050 - 6s - loss: 1.0384e-08 - accuracy: 1.0000 - val_loss: 0.2091 - val_accuracy: 0.9743\n",
      "Epoch 17/50\n",
      "1050/1050 - 5s - loss: 9.8415e-09 - accuracy: 1.0000 - val_loss: 0.2097 - val_accuracy: 0.9744\n",
      "Epoch 18/50\n",
      "1050/1050 - 7s - loss: 7.9791e-09 - accuracy: 1.0000 - val_loss: 0.2103 - val_accuracy: 0.9745\n",
      "Epoch 19/50\n",
      "1050/1050 - 7s - loss: 5.9924e-09 - accuracy: 1.0000 - val_loss: 0.2106 - val_accuracy: 0.9743\n",
      "Epoch 20/50\n",
      "1050/1050 - 6s - loss: 4.6939e-09 - accuracy: 1.0000 - val_loss: 0.2104 - val_accuracy: 0.9740\n",
      "Epoch 21/50\n",
      "1050/1050 - 7s - loss: 4.4633e-09 - accuracy: 1.0000 - val_loss: 0.2102 - val_accuracy: 0.9738\n",
      "Epoch 22/50\n",
      "1050/1050 - 7s - loss: 4.6584e-09 - accuracy: 1.0000 - val_loss: 0.2119 - val_accuracy: 0.9742\n",
      "Epoch 23/50\n",
      "1050/1050 - 5s - loss: 4.2149e-09 - accuracy: 1.0000 - val_loss: 0.2099 - val_accuracy: 0.9736\n",
      "Epoch 24/50\n",
      "1050/1050 - 6s - loss: 4.3923e-09 - accuracy: 1.0000 - val_loss: 0.2118 - val_accuracy: 0.9740\n",
      "Epoch 25/50\n",
      "1050/1050 - 6s - loss: 4.2397e-09 - accuracy: 1.0000 - val_loss: 0.2122 - val_accuracy: 0.9737\n",
      "Epoch 26/50\n",
      "1050/1050 - 9s - loss: 4.1297e-09 - accuracy: 1.0000 - val_loss: 0.2117 - val_accuracy: 0.9738\n",
      "Epoch 27/50\n",
      "1050/1050 - 7s - loss: 4.1262e-09 - accuracy: 1.0000 - val_loss: 0.2116 - val_accuracy: 0.9740\n",
      "Epoch 28/50\n",
      "1050/1050 - 8s - loss: 4.0481e-09 - accuracy: 1.0000 - val_loss: 0.2125 - val_accuracy: 0.9742\n",
      "Epoch 29/50\n",
      "1050/1050 - 5s - loss: 4.2043e-09 - accuracy: 1.0000 - val_loss: 0.2117 - val_accuracy: 0.9739\n",
      "Epoch 30/50\n",
      "1050/1050 - 5s - loss: 4.0978e-09 - accuracy: 1.0000 - val_loss: 0.2111 - val_accuracy: 0.9737\n",
      "Epoch 31/50\n",
      "1050/1050 - 5s - loss: 4.1227e-09 - accuracy: 1.0000 - val_loss: 0.2117 - val_accuracy: 0.9738\n",
      "Epoch 32/50\n",
      "1050/1050 - 5s - loss: 4.1156e-09 - accuracy: 1.0000 - val_loss: 0.2116 - val_accuracy: 0.9737\n",
      "Epoch 33/50\n",
      "1050/1050 - 7s - loss: 4.1794e-09 - accuracy: 1.0000 - val_loss: 0.2119 - val_accuracy: 0.9736\n",
      "Epoch 34/50\n",
      "1050/1050 - 7s - loss: 4.2717e-09 - accuracy: 1.0000 - val_loss: 0.2136 - val_accuracy: 0.9735\n",
      "Epoch 35/50\n",
      "1050/1050 - 7s - loss: 4.0446e-09 - accuracy: 1.0000 - val_loss: 0.2132 - val_accuracy: 0.9737\n",
      "Epoch 36/50\n",
      "1050/1050 - 8s - loss: 4.2362e-09 - accuracy: 1.0000 - val_loss: 0.2138 - val_accuracy: 0.9735\n",
      "Epoch 37/50\n",
      "1050/1050 - 9s - loss: 4.2078e-09 - accuracy: 1.0000 - val_loss: 0.2132 - val_accuracy: 0.9738\n",
      "Epoch 38/50\n",
      "1050/1050 - 9s - loss: 4.2220e-09 - accuracy: 1.0000 - val_loss: 0.2133 - val_accuracy: 0.9739\n",
      "Epoch 39/50\n",
      "1050/1050 - 6s - loss: 4.2362e-09 - accuracy: 1.0000 - val_loss: 0.2136 - val_accuracy: 0.9736\n",
      "Epoch 40/50\n",
      "1050/1050 - 5s - loss: 4.2788e-09 - accuracy: 1.0000 - val_loss: 0.2148 - val_accuracy: 0.9730\n",
      "Epoch 41/50\n",
      "1050/1050 - 9s - loss: 4.1262e-09 - accuracy: 1.0000 - val_loss: 0.2135 - val_accuracy: 0.9737\n",
      "Epoch 42/50\n",
      "1050/1050 - 7s - loss: 4.3071e-09 - accuracy: 1.0000 - val_loss: 0.2145 - val_accuracy: 0.9735\n",
      "Epoch 43/50\n",
      "1050/1050 - 5s - loss: 4.3533e-09 - accuracy: 1.0000 - val_loss: 0.2144 - val_accuracy: 0.9735\n",
      "Epoch 44/50\n",
      "1050/1050 - 6s - loss: 4.2894e-09 - accuracy: 1.0000 - val_loss: 0.2144 - val_accuracy: 0.9736\n",
      "Epoch 45/50\n",
      "1050/1050 - 5s - loss: 4.2433e-09 - accuracy: 1.0000 - val_loss: 0.2140 - val_accuracy: 0.9730\n",
      "Epoch 46/50\n",
      "1050/1050 - 9s - loss: 4.3036e-09 - accuracy: 1.0000 - val_loss: 0.2145 - val_accuracy: 0.9736\n",
      "Epoch 47/50\n",
      "1050/1050 - 10s - loss: 4.3533e-09 - accuracy: 1.0000 - val_loss: 0.2152 - val_accuracy: 0.9731\n",
      "Epoch 48/50\n",
      "1050/1050 - 7s - loss: 4.3746e-09 - accuracy: 1.0000 - val_loss: 0.2159 - val_accuracy: 0.9731\n",
      "Epoch 49/50\n",
      "1050/1050 - 6s - loss: 4.4633e-09 - accuracy: 1.0000 - val_loss: 0.2162 - val_accuracy: 0.9731\n",
      "Epoch 50/50\n",
      "1050/1050 - 6s - loss: 4.5378e-09 - accuracy: 1.0000 - val_loss: 0.2159 - val_accuracy: 0.9737\n"
     ]
    }
   ],
   "source": [
    "model3 = define_model(\"sigmoid\")\n",
    "history3 = model2.fit(X_train,y_train,epochs=50, verbose = 2,validation_data=(X_valid, y_valid))"
   ]
  },
  {
   "cell_type": "code",
   "execution_count": 21,
   "metadata": {},
   "outputs": [],
   "source": [
    "#we have trained the model using Relu,tanh and sigmoid Activation functions bt\n",
    "# the loss and accuracy are almost similar in all the models"
   ]
  },
  {
   "cell_type": "code",
   "execution_count": 30,
   "metadata": {},
   "outputs": [],
   "source": [
    "# define accuracy and loss function\n",
    "def accuracy(hist):\n",
    "    plt.plot(hist.history['accuracy'],'-o')\n",
    "    plt.plot(hist.history['val_accuracy'],'-o')\n",
    "    plt.title('model accuracy')\n",
    "    plt.ylabel('accuracy')\n",
    "    plt.xlabel('epoch')\n",
    "    plt.legend(['train', 'validation'], loc='upper left')\n",
    "    plt.xlim((0,50))\n",
    "    plt.show()\n",
    "\n",
    "def loss(hist):\n",
    "    plt.plot(hist.history['loss'],'-o')\n",
    "    plt.plot(hist.history['val_loss'],'-o')\n",
    "    plt.title('model loss')\n",
    "    plt.ylabel('loss')\n",
    "    plt.xlabel('epoch')\n",
    "    plt.legend(['train', 'validation'], loc='upper left')\n",
    "    plt.xlim((0,50))\n",
    "    plt.show()"
   ]
  },
  {
   "cell_type": "code",
   "execution_count": 31,
   "metadata": {},
   "outputs": [
    {
     "data": {
      "image/png": "[encoded data removed]",
      "text/plain": [
       "<Figure size 432x288 with 1 Axes>"
      ]
     },
     "metadata": {
      "needs_background": "light"
     },
     "output_type": "display_data"
    },
    {
     "data": {
      "image/png": "[encoded data removed]",
      "text/plain": [
       "<Figure size 432x288 with 1 Axes>"
      ]
     },
     "metadata": {
      "needs_background": "light"
     },
     "output_type": "display_data"
    }
   ],
   "source": [
    "# PLot accuracy and loss along each epoch\n",
    "accuracy(history2)\n",
    "loss(history2)"
   ]
  },
  {
   "cell_type": "code",
   "execution_count": 35,
   "metadata": {},
   "outputs": [
    {
     "data": {
      "image/png": "[encoded data removed]",
      "text/plain": [
       "<Figure size 432x288 with 1 Axes>"
      ]
     },
     "metadata": {
      "needs_background": "light"
     },
     "output_type": "display_data"
    },
    {
     "data": {
      "image/png": "[encoded data removed]",
      "text/plain": [
       "<Figure size 432x288 with 1 Axes>"
      ]
     },
     "metadata": {
      "needs_background": "light"
     },
     "output_type": "display_data"
    }
   ],
   "source": [
    "# PLot accuracy and loss along each epoch\n",
    "accuracy(history)\n",
    "loss(history)"
   ]
  },
  {
   "cell_type": "code",
   "execution_count": 33,
   "metadata": {},
   "outputs": [
    {
     "data": {
      "image/png": "[encoded data removed]",
      "text/plain": [
       "<Figure size 432x288 with 1 Axes>"
      ]
     },
     "metadata": {
      "needs_background": "light"
     },
     "output_type": "display_data"
    },
    {
     "data": {
      "image/png": "[encoded data removed]",
      "text/plain": [
       "<Figure size 432x288 with 1 Axes>"
      ]
     },
     "metadata": {
      "needs_background": "light"
     },
     "output_type": "display_data"
    }
   ],
   "source": [
    "# PLot accuracy and loss along each epoch\n",
    "accuracy(history3)\n",
    "loss(history3)"
   ]
  },
  {
   "cell_type": "code",
   "execution_count": 36,
   "metadata": {},
   "outputs": [],
   "source": [
    "# Learning Parameters\n",
    "weights ,biases =model2.layers[1].get_weights()"
   ]
  },
  {
   "cell_type": "code",
   "execution_count": 37,
   "metadata": {},
   "outputs": [
    {
     "data": {
      "text/plain": [
       "array([[-0.06925895, -0.05213878,  0.03503617, ...,  0.06478168,\n",
       "        -0.06600817, -0.02690521],\n",
       "       [ 0.07665001, -0.07093049, -0.07800322, ..., -0.06923223,\n",
       "         0.03992611,  0.01250336],\n",
       "       [ 0.02008455,  0.03108454, -0.01869575, ..., -0.07788824,\n",
       "        -0.05653603, -0.00384842],\n",
       "       ...,\n",
       "       [ 0.07686222, -0.06714018, -0.04572453, ..., -0.00989627,\n",
       "        -0.06278676, -0.03679142],\n",
       "       [-0.05676292, -0.04111023,  0.0546598 , ...,  0.00802072,\n",
       "         0.06274816,  0.05155836],\n",
       "       [ 0.07830781, -0.01689069, -0.0021735 , ...,  0.06481108,\n",
       "         0.07840885,  0.03125398]], dtype=float32)"
      ]
     },
     "execution_count": 37,
     "metadata": {},
     "output_type": "execute_result"
    }
   ],
   "source": [
    "weights"
   ]
  },
  {
   "cell_type": "code",
   "execution_count": 38,
   "metadata": {},
   "outputs": [
    {
     "data": {
      "text/plain": [
       "array([-0.8731137 ,  0.8159894 , -0.48041415,  0.23998013,  0.0559806 ,\n",
       "        0.3337144 , -0.31530282, -0.49135926,  0.00952085,  0.3214024 ,\n",
       "        0.45530248, -0.89451957,  0.14962459,  0.02039843,  0.7106181 ,\n",
       "        0.57850057, -0.46743795,  0.10376386,  0.15989628,  0.35058606,\n",
       "       -0.09310737, -0.34045166,  0.6781982 , -0.12779716,  0.28067964,\n",
       "       -0.17048888, -0.5240464 ,  0.06798913, -0.21691976,  0.18827742,\n",
       "       -0.74474263, -0.77710795, -0.17165592, -0.46749166,  0.10246482,\n",
       "        0.60438234, -0.20004536,  0.00154096, -0.05767484, -0.5511784 ,\n",
       "        0.4229456 ,  0.08614583,  0.29478157,  0.16138767,  0.14633922,\n",
       "        0.17776474, -0.15956235,  0.5708701 ,  0.13931192, -0.00380259,\n",
       "       -0.10820913,  0.5560984 ,  0.1134187 , -0.22451901,  0.09228751,\n",
       "        0.46889716, -0.5792972 ,  0.0465288 ,  0.64945567,  0.556343  ,\n",
       "       -0.3778631 ,  0.5390866 , -0.45343307, -0.65774727, -0.37920207,\n",
       "        0.06251231, -0.05718939,  0.55420786,  0.29104745,  0.06304078,\n",
       "       -0.22211088,  0.22937797, -0.17885377,  0.43697712, -0.20062843,\n",
       "       -0.3324468 ,  0.7242408 ,  0.17131115,  0.02155138,  0.6643211 ,\n",
       "        0.63582945,  0.11293029, -0.01751125,  0.41404116,  0.0262592 ,\n",
       "       -0.42263114,  0.065573  ,  0.1748728 ,  0.42322263,  0.55206764,\n",
       "       -0.389293  ,  0.12945159, -0.2606999 ,  0.5913872 , -0.07238296,\n",
       "        0.20789006,  0.43995407, -0.1648348 ,  0.48218688, -0.49124002,\n",
       "        0.7812352 ,  0.5893591 ,  0.12892078, -0.21271352, -0.35509118,\n",
       "       -0.5735948 ,  0.22519438,  0.11696136,  0.06437851,  0.07402343,\n",
       "        0.09498862, -0.06878182, -0.01892853,  0.11131772, -0.561665  ,\n",
       "        0.24865997,  0.5861693 ,  0.0469227 , -0.32852283, -0.03379133,\n",
       "       -0.44933245,  0.6404586 , -0.23683444,  0.3873124 ,  0.04594551,\n",
       "       -0.54858667, -0.59292966, -0.36406353,  0.17729838, -0.34313717,\n",
       "       -0.02025666,  0.07322783, -0.9972574 ,  0.45985872,  0.28192148,\n",
       "        0.7180095 ,  0.00204838, -0.2849066 , -0.04474952,  0.31191272,\n",
       "        0.14715546, -0.6969991 , -0.43690836, -0.23502381,  0.45048955,\n",
       "        0.01123955, -0.33002913, -0.10880815, -0.64716387, -0.6657086 ],\n",
       "      dtype=float32)"
      ]
     },
     "execution_count": 38,
     "metadata": {},
     "output_type": "execute_result"
    }
   ],
   "source": [
    "biases"
   ]
  },
  {
   "cell_type": "code",
   "execution_count": 39,
   "metadata": {},
   "outputs": [
    {
     "name": "stdout",
     "output_type": "stream",
     "text": [
      "263/263 [==============================] - 3s 7ms/step - loss: 0.2159 - accuracy: 0.9737\n"
     ]
    },
    {
     "data": {
      "text/plain": [
       "[0.21590889990329742, 0.9736904501914978]"
      ]
     },
     "execution_count": 39,
     "metadata": {},
     "output_type": "execute_result"
    }
   ],
   "source": [
    "#Evalution of model\n",
    "model2.evaluate(X_valid,y_valid)"
   ]
  },
  {
   "cell_type": "code",
   "execution_count": 40,
   "metadata": {},
   "outputs": [],
   "source": [
    "#Prediction on Test set\n",
    "predict = model2.predict(test)"
   ]
  },
  {
   "cell_type": "code",
   "execution_count": 41,
   "metadata": {},
   "outputs": [
    {
     "data": {
      "text/plain": [
       "Text(0.5, 1.0, 'True Label: 2')"
      ]
     },
     "execution_count": 41,
     "metadata": {},
     "output_type": "execute_result"
    },
    {
     "data": {
      "image/png": "[encoded data removed]",
      "text/plain": [
       "<Figure size 432x288 with 1 Axes>"
      ]
     },
     "metadata": {
      "needs_background": "light"
     },
     "output_type": "display_data"
    }
   ],
   "source": [
    "#PLoting first instance of test set\n",
    "plt.imshow(test[0][:,:,0],cmap=\"gray\")\n",
    "plt.title(\"True Label: {}\".format(np.argmax(predict[0])))"
   ]
  },
  {
   "cell_type": "code",
   "execution_count": 42,
   "metadata": {},
   "outputs": [
    {
     "data": {
      "text/plain": [
       "array([[1.3582245e-24, 1.8636618e-30, 1.0000000e+00, ..., 5.9989946e-22,\n",
       "        3.6292791e-26, 9.6537011e-23],\n",
       "       [1.0000000e+00, 1.7415087e-16, 1.4987394e-16, ..., 2.1877364e-15,\n",
       "        2.6229083e-21, 1.7263754e-23],\n",
       "       [4.9160410e-13, 1.6664902e-14, 9.9928902e-12, ..., 1.3689585e-12,\n",
       "        1.8374652e-15, 1.0000000e+00],\n",
       "       ...,\n",
       "       [9.6105124e-26, 1.8386539e-26, 8.9767971e-26, ..., 2.0208853e-25,\n",
       "        1.0742459e-19, 2.6036837e-17],\n",
       "       [8.2454465e-15, 5.5170832e-19, 3.6130922e-17, ..., 3.0189265e-13,\n",
       "        6.9357010e-18, 1.0000000e+00],\n",
       "       [1.4526994e-17, 1.7684162e-21, 1.0000000e+00, ..., 6.1106298e-19,\n",
       "        2.1684353e-15, 3.4321118e-14]], dtype=float32)"
      ]
     },
     "execution_count": 42,
     "metadata": {},
     "output_type": "execute_result"
    }
   ],
   "source": [
    "predict"
   ]
  },
  {
   "cell_type": "code",
   "execution_count": 43,
   "metadata": {},
   "outputs": [],
   "source": [
    "predict = np.argmax(predict, axis =1)"
   ]
  },
  {
   "cell_type": "code",
   "execution_count": 44,
   "metadata": {},
   "outputs": [],
   "source": [
    "predict = pd.Series(predict, name = \"Label\")\n"
   ]
  },
  {
   "cell_type": "code",
   "execution_count": 45,
   "metadata": {},
   "outputs": [
    {
     "data": {
      "text/plain": [
       "0        2\n",
       "1        0\n",
       "2        9\n",
       "3        9\n",
       "4        3\n",
       "        ..\n",
       "27995    9\n",
       "27996    7\n",
       "27997    3\n",
       "27998    9\n",
       "27999    2\n",
       "Name: Label, Length: 28000, dtype: int64"
      ]
     },
     "execution_count": 45,
     "metadata": {},
     "output_type": "execute_result"
    }
   ],
   "source": [
    "predict"
   ]
  },
  {
   "cell_type": "code",
   "execution_count": 46,
   "metadata": {},
   "outputs": [],
   "source": [
    "#the first digit is 2 i.e we predicted correct here\n",
    "#Saving predictions in csv files\n",
    "Learning_Activations = pd.concat([pd.Series(range(1,28001),name = \"ImageId\"),predict],axis = 1)\n",
    "Learning_Activations.to_csv(\"Learning_Activations.csv\",index=False)"
   ]
  },
  {
   "cell_type": "code",
   "execution_count": null,
   "metadata": {},
   "outputs": [],
   "source": []
  }
 ],
 "metadata": {
  "kernelspec": {
   "display_name": "Python 3",
   "language": "python",
   "name": "python3"
  },
  "language_info": {
   "codemirror_mode": {
    "name": "ipython",
    "version": 3
   },
   "file_extension": ".py",
   "mimetype": "text/x-python",
   "name": "python",
   "nbconvert_exporter": "python",
   "pygments_lexer": "ipython3",
   "version": "3.8.5"
  }
 },
 "nbformat": 4,
 "nbformat_minor": 4
}
